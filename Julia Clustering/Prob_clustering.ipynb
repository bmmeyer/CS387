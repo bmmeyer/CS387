{
 "cells": [
  {
   "cell_type": "code",
   "execution_count": 1,
   "metadata": {},
   "outputs": [
    {
     "data": {
      "text/plain": [
       "MersenneTwister(2021)"
      ]
     },
     "execution_count": 1,
     "metadata": {},
     "output_type": "execute_result"
    }
   ],
   "source": [
    "# Methods by David Rushing Dewhurt, drd@davidrushingdewhurst.com\n",
    "import Pkg\n",
    "Pkg.activate(\"..\")\n",
    "\n",
    "using CrimsonSkyline\n",
    "using Distributions: Normal, truncated, Poisson, InverseWishart, MvNormal, Dirichlet, Categorical\n",
    "using Logging\n",
    "using StatsBase: mean, std\n",
    "using Random: seed!\n",
    "using PrettyPrint: println\n",
    "using CSV\n",
    "using DataFrames\n",
    "\n",
    "seed!(2021)"
   ]
  },
  {
   "cell_type": "code",
   "execution_count": 2,
   "metadata": {
    "scrolled": true
   },
   "outputs": [
    {
     "data": {
      "text/html": [
       "<table class=\"data-frame\"><thead><tr><th></th><th>Walking Score</th><th>Standing Score</th><th>Fall Status</th><th>Subject Ind</th></tr><tr><th></th><th>Float64</th><th>Float64</th><th>Int64</th><th>String</th></tr></thead><tbody><p>465 rows × 4 columns</p><tr><th>1</th><td>0.969173</td><td>0.683472</td><td>1</td><td>S0001</td></tr><tr><th>2</th><td>0.97548</td><td>0.181886</td><td>1</td><td>S0001</td></tr><tr><th>3</th><td>0.973374</td><td>0.218314</td><td>1</td><td>S0001</td></tr><tr><th>4</th><td>0.98586</td><td>0.683472</td><td>1</td><td>S0001</td></tr><tr><th>5</th><td>0.999961</td><td>0.120885</td><td>1</td><td>S0001</td></tr><tr><th>6</th><td>0.957081</td><td>0.46664</td><td>1</td><td>S0001</td></tr><tr><th>7</th><td>4.43399e-5</td><td>0.687266</td><td>2</td><td>S0002</td></tr><tr><th>8</th><td>0.0037153</td><td>0.318062</td><td>2</td><td>S0002</td></tr><tr><th>9</th><td>8.08068e-5</td><td>0.372071</td><td>2</td><td>S0002</td></tr><tr><th>10</th><td>0.000261917</td><td>0.57516</td><td>2</td><td>S0002</td></tr><tr><th>11</th><td>0.000557769</td><td>0.697527</td><td>1</td><td>S0005</td></tr><tr><th>12</th><td>0.0318466</td><td>0.160412</td><td>1</td><td>S0005</td></tr><tr><th>13</th><td>2.08222e-5</td><td>0.473805</td><td>1</td><td>S0005</td></tr><tr><th>14</th><td>0.00144627</td><td>0.37851</td><td>1</td><td>S0005</td></tr><tr><th>15</th><td>0.000385701</td><td>0.624352</td><td>1</td><td>S0005</td></tr><tr><th>16</th><td>0.00199384</td><td>0.231</td><td>1</td><td>S0005</td></tr><tr><th>17</th><td>0.000274569</td><td>0.218314</td><td>1</td><td>S0005</td></tr><tr><th>18</th><td>0.0024746</td><td>0.278715</td><td>1</td><td>S0005</td></tr><tr><th>19</th><td>0.000241416</td><td>0.517141</td><td>1</td><td>S0005</td></tr><tr><th>20</th><td>0.00125953</td><td>0.299225</td><td>1</td><td>S0005</td></tr><tr><th>21</th><td>0.000408406</td><td>0.442875</td><td>1</td><td>S0005</td></tr><tr><th>22</th><td>0.000127981</td><td>0.372071</td><td>1</td><td>S0005</td></tr><tr><th>23</th><td>0.000141637</td><td>0.632901</td><td>1</td><td>S0005</td></tr><tr><th>24</th><td>0.000460227</td><td>0.473805</td><td>1</td><td>S0005</td></tr><tr><th>25</th><td>0.00762406</td><td>0.683472</td><td>1</td><td>S0005</td></tr><tr><th>26</th><td>1.45669e-5</td><td>0.687814</td><td>1</td><td>S0005</td></tr><tr><th>27</th><td>3.23747e-5</td><td>0.318062</td><td>1</td><td>S0005</td></tr><tr><th>28</th><td>0.000955012</td><td>0.417326</td><td>1</td><td>S0008</td></tr><tr><th>29</th><td>7.11085e-6</td><td>0.3179</td><td>1</td><td>S0008</td></tr><tr><th>30</th><td>0.000943882</td><td>0.517141</td><td>1</td><td>S0008</td></tr><tr><th>&vellip;</th><td>&vellip;</td><td>&vellip;</td><td>&vellip;</td><td>&vellip;</td></tr></tbody></table>"
      ],
      "text/latex": [
       "\\begin{tabular}{r|cccc}\n",
       "\t& Walking Score & Standing Score & Fall Status & Subject Ind\\\\\n",
       "\t\\hline\n",
       "\t& Float64 & Float64 & Int64 & String\\\\\n",
       "\t\\hline\n",
       "\t1 & 0.969173 & 0.683472 & 1 & S0001 \\\\\n",
       "\t2 & 0.97548 & 0.181886 & 1 & S0001 \\\\\n",
       "\t3 & 0.973374 & 0.218314 & 1 & S0001 \\\\\n",
       "\t4 & 0.98586 & 0.683472 & 1 & S0001 \\\\\n",
       "\t5 & 0.999961 & 0.120885 & 1 & S0001 \\\\\n",
       "\t6 & 0.957081 & 0.46664 & 1 & S0001 \\\\\n",
       "\t7 & 4.43399e-5 & 0.687266 & 2 & S0002 \\\\\n",
       "\t8 & 0.0037153 & 0.318062 & 2 & S0002 \\\\\n",
       "\t9 & 8.08068e-5 & 0.372071 & 2 & S0002 \\\\\n",
       "\t10 & 0.000261917 & 0.57516 & 2 & S0002 \\\\\n",
       "\t11 & 0.000557769 & 0.697527 & 1 & S0005 \\\\\n",
       "\t12 & 0.0318466 & 0.160412 & 1 & S0005 \\\\\n",
       "\t13 & 2.08222e-5 & 0.473805 & 1 & S0005 \\\\\n",
       "\t14 & 0.00144627 & 0.37851 & 1 & S0005 \\\\\n",
       "\t15 & 0.000385701 & 0.624352 & 1 & S0005 \\\\\n",
       "\t16 & 0.00199384 & 0.231 & 1 & S0005 \\\\\n",
       "\t17 & 0.000274569 & 0.218314 & 1 & S0005 \\\\\n",
       "\t18 & 0.0024746 & 0.278715 & 1 & S0005 \\\\\n",
       "\t19 & 0.000241416 & 0.517141 & 1 & S0005 \\\\\n",
       "\t20 & 0.00125953 & 0.299225 & 1 & S0005 \\\\\n",
       "\t21 & 0.000408406 & 0.442875 & 1 & S0005 \\\\\n",
       "\t22 & 0.000127981 & 0.372071 & 1 & S0005 \\\\\n",
       "\t23 & 0.000141637 & 0.632901 & 1 & S0005 \\\\\n",
       "\t24 & 0.000460227 & 0.473805 & 1 & S0005 \\\\\n",
       "\t25 & 0.00762406 & 0.683472 & 1 & S0005 \\\\\n",
       "\t26 & 1.45669e-5 & 0.687814 & 1 & S0005 \\\\\n",
       "\t27 & 3.23747e-5 & 0.318062 & 1 & S0005 \\\\\n",
       "\t28 & 0.000955012 & 0.417326 & 1 & S0008 \\\\\n",
       "\t29 & 7.11085e-6 & 0.3179 & 1 & S0008 \\\\\n",
       "\t30 & 0.000943882 & 0.517141 & 1 & S0008 \\\\\n",
       "\t$\\dots$ & $\\dots$ & $\\dots$ & $\\dots$ & $\\dots$ \\\\\n",
       "\\end{tabular}\n"
      ],
      "text/plain": [
       "\u001b[1m465×4 DataFrame\u001b[0m\n",
       "\u001b[1m Row \u001b[0m│\u001b[1m Walking Score \u001b[0m\u001b[1m Standing Score \u001b[0m\u001b[1m Fall Status \u001b[0m\u001b[1m Subject Ind \u001b[0m\n",
       "\u001b[1m     \u001b[0m│\u001b[90m Float64       \u001b[0m\u001b[90m Float64        \u001b[0m\u001b[90m Int64       \u001b[0m\u001b[90m String      \u001b[0m\n",
       "─────┼─────────────────────────────────────────────────────────\n",
       "   1 │   0.969173           0.683472            1  S0001\n",
       "   2 │   0.97548            0.181886            1  S0001\n",
       "   3 │   0.973374           0.218314            1  S0001\n",
       "   4 │   0.98586            0.683472            1  S0001\n",
       "   5 │   0.999961           0.120885            1  S0001\n",
       "   6 │   0.957081           0.46664             1  S0001\n",
       "   7 │   4.43399e-5         0.687266            2  S0002\n",
       "   8 │   0.0037153          0.318062            2  S0002\n",
       "   9 │   8.08068e-5         0.372071            2  S0002\n",
       "  10 │   0.000261917        0.57516             2  S0002\n",
       "  11 │   0.000557769        0.697527            1  S0005\n",
       "  ⋮  │       ⋮              ⋮              ⋮            ⋮\n",
       " 456 │   1.2263e-5          0.163626            2  S0044\n",
       " 457 │   5.48441e-5         0.517141            2  S0044\n",
       " 458 │   0.00413509         0.289526            2  S0044\n",
       " 459 │   0.0129474          0.624352            2  S0044\n",
       " 460 │   0.000625765        0.68496             2  S0044\n",
       " 461 │   0.00134128         0.68496             2  S0044\n",
       " 462 │   0.000420474        0.687814            2  S0044\n",
       " 463 │   5.87997e-5         0.120885            2  S0044\n",
       " 464 │   0.00029688         0.517141            2  S0044\n",
       " 465 │   0.000836797        0.373165            2  S0044\n",
       "\u001b[36m                                               444 rows omitted\u001b[0m"
      ]
     },
     "execution_count": 2,
     "metadata": {},
     "output_type": "execute_result"
    }
   ],
   "source": [
    "df = DataFrame(CSV.File(\"clustering_tbl.csv\"))"
   ]
  },
  {
   "cell_type": "code",
   "execution_count": null,
   "metadata": {},
   "outputs": [],
   "source": []
  },
  {
   "cell_type": "code",
   "execution_count": 9,
   "metadata": {},
   "outputs": [
    {
     "data": {
      "text/plain": [
       "(465, 2)"
      ]
     },
     "execution_count": 9,
     "metadata": {},
     "output_type": "execute_result"
    }
   ],
   "source": []
  },
  {
   "cell_type": "code",
   "execution_count": 10,
   "metadata": {
    "scrolled": true
   },
   "outputs": [
    {
     "data": {
      "text/plain": [
       "465×2 Matrix{Float64}:\n",
       " 0.969173     0.683472\n",
       " 0.97548      0.181886\n",
       " 0.973374     0.218314\n",
       " 0.98586      0.683472\n",
       " 0.999961     0.120885\n",
       " 0.957081     0.46664\n",
       " 4.43399e-5   0.687266\n",
       " 0.0037153    0.318062\n",
       " 8.08068e-5   0.372071\n",
       " 0.000261917  0.57516\n",
       " 0.000557769  0.697527\n",
       " 0.0318466    0.160412\n",
       " 2.08222e-5   0.473805\n",
       " ⋮            \n",
       " 2.70189e-6   0.163626\n",
       " 2.69162e-5   0.624352\n",
       " 1.2263e-5    0.163626\n",
       " 5.48441e-5   0.517141\n",
       " 0.00413509   0.289526\n",
       " 0.0129474    0.624352\n",
       " 0.000625765  0.68496\n",
       " 0.00134128   0.68496\n",
       " 0.000420474  0.687814\n",
       " 5.87997e-5   0.120885\n",
       " 0.00029688   0.517141\n",
       " 0.000836797  0.373165"
      ]
     },
     "execution_count": 10,
     "metadata": {},
     "output_type": "execute_result"
    }
   ],
   "source": [
    "data = hcat(df[:,1],df[:,2])"
   ]
  },
  {
   "cell_type": "code",
   "execution_count": 4,
   "metadata": {},
   "outputs": [
    {
     "data": {
      "text/plain": [
       "eye (generic function with 1 method)"
      ]
     },
     "execution_count": 4,
     "metadata": {},
     "output_type": "execute_result"
    }
   ],
   "source": [
    "function eye(d :: Int)\n",
    "    mat = zeros(Float64, d, d)\n",
    "    for i in 1:d\n",
    "        mat[i, i] = 1.0\n",
    "    end\n",
    "    mat\n",
    "end"
   ]
  },
  {
   "cell_type": "code",
   "execution_count": 13,
   "metadata": {},
   "outputs": [
    {
     "data": {
      "text/plain": [
       "clustering (generic function with 1 method)"
      ]
     },
     "execution_count": 13,
     "metadata": {},
     "output_type": "execute_result"
    }
   ],
   "source": [
    "function clustering(t :: Trace, data :: Array{Float64, 2}, cluster_guess :: Int)\n",
    "    # data has shape (D, N), where D is dimensionalty and N is num observations\n",
    "    D = size(data, 2)\n",
    "    N = size(data, 1)\n",
    "    # first, choosing the number of clusters. Prior penalizes high number of clusters\n",
    "    cluster_guess = max(cluster_guess, 1)\n",
    "    n_clusters = sample(t, :n_clusters, truncated(Poisson(cluster_guess), 1, Inf))\n",
    "    # second, given the number of clusters, define loc and cov for each\n",
    "    covs = Array{Array{Float64, 2}, 1}()\n",
    "    locs = Array{Array{Float64, 1}, 1}()\n",
    "    id_mat = eye(D)\n",
    "    for c in 1:n_clusters\n",
    "        cov = sample(t, (:cov, c), InverseWishart(D + 1, id_mat))\n",
    "        push!(covs, id_mat)\n",
    "        loc = sample(t, (:loc, c), MvNormal(zeros(D), cov))\n",
    "        push!(locs, loc)\n",
    "    end\n",
    "    # third, for each datapoint, assign to a cluster\n",
    "    # note that each datapoint has its own local rv -- we could introduce an amortized model\n",
    "    # that learns a mapping from datapoint features to cluster\n",
    "    for n in 1:N\n",
    "        cluster_prob = sample(t, (:cluster_prob, n), Dirichlet(n_clusters, 1.0))\n",
    "        this_cluster = sample(t, (:this_cluster, n), Categorical(cluster_prob))\n",
    "        observe(t, (:data, n), MvNormal(locs[this_cluster], covs[this_cluster]), data[n, :])\n",
    "    end\n",
    "end"
   ]
  },
  {
   "cell_type": "code",
   "execution_count": 14,
   "metadata": {},
   "outputs": [
    {
     "name": "stderr",
     "output_type": "stream",
     "text": [
      "┌ Info: Open-universe clustering inference\n",
      "└ @ Main In[14]:2\n"
     ]
    },
    {
     "name": "stdout",
     "output_type": "stream",
     "text": [
      "294.324552 seconds (3.72 G allocations: 166.825 GiB, 10.67% gc time, 0.05% compilation time)\n"
     ]
    },
    {
     "name": "stderr",
     "output_type": "stream",
     "text": [
      "┌ Info: posterior n_clusters ≈ 2.0 ± 0.0\n",
      "└ @ Main In[14]:15\n"
     ]
    }
   ],
   "source": [
    "function main()\n",
    "    @info \"Open-universe clustering inference\"\n",
    "#     D = 4\n",
    "#     n1 = 5\n",
    "#     n2 = 12\n",
    "#     data1 = rand(D, n1)\n",
    "#     data2 = rand(D, n2) .+ 6\n",
    "#     data = hcat(data1, data2)\n",
    "#     @info \"True number of clusters is 2\"\n",
    "    # pretend we don't know dgp, bias it to be higher than ground truth\n",
    "    n_clusters_guess = 4\n",
    "    @time results = mh(clustering; params = (data, n_clusters_guess), burn=2000, thin=100, num_iterations=100000)\n",
    "    mean_n_clusters = mean(results, :n_clusters)\n",
    "    std_n_clusters = std(results, :n_clusters)\n",
    "    @info \"posterior n_clusters ≈ $mean_n_clusters ± $std_n_clusters\"\n",
    "end\n",
    "\n",
    "main()"
   ]
  },
  {
   "cell_type": "code",
   "execution_count": 15,
   "metadata": {},
   "outputs": [
    {
     "ename": "LoadError",
     "evalue": "UndefVarError: results not defined",
     "output_type": "error",
     "traceback": [
      "UndefVarError: results not defined",
      "",
      "Stacktrace:",
      " [1] top-level scope",
      "   @ :0",
      " [2] eval",
      "   @ ./boot.jl:360 [inlined]",
      " [3] include_string(mapexpr::typeof(REPL.softscope), mod::Module, code::String, filename::String)",
      "   @ Base ./loading.jl:1094"
     ]
    }
   ],
   "source": []
  },
  {
   "cell_type": "code",
   "execution_count": null,
   "metadata": {},
   "outputs": [],
   "source": []
  },
  {
   "cell_type": "code",
   "execution_count": null,
   "metadata": {},
   "outputs": [],
   "source": []
  }
 ],
 "metadata": {
  "kernelspec": {
   "display_name": "Julia 1.6.1",
   "language": "julia",
   "name": "julia-1.6"
  },
  "language_info": {
   "file_extension": ".jl",
   "mimetype": "application/julia",
   "name": "julia",
   "version": "1.6.1"
  }
 },
 "nbformat": 4,
 "nbformat_minor": 4
}
